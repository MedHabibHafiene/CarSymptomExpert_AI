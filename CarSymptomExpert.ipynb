{
  "cells": [
    {
      "cell_type": "code",
      "execution_count": 1,
      "metadata": {
        "colab": {
          "base_uri": "https://localhost:8080/"
        },
        "id": "FNJTNh8qDJKu",
        "outputId": "a05f56e6-dd2c-4880-d011-709bfac470de"
      },
      "outputs": [
        {
          "name": "stdout",
          "output_type": "stream",
          "text": [
            "Requirement already satisfied: experta in c:\\users\\lenovo\\appdata\\local\\programs\\python\\python310\\lib\\site-packages (1.9.4)\n",
            "Requirement already satisfied: frozendict==1.2 in c:\\users\\lenovo\\appdata\\local\\programs\\python\\python310\\lib\\site-packages (from experta) (1.2)\n",
            "Requirement already satisfied: schema==0.6.7 in c:\\users\\lenovo\\appdata\\local\\programs\\python\\python310\\lib\\site-packages (from experta) (0.6.7)\n",
            "Requirement already satisfied: frozendict in c:\\users\\lenovo\\appdata\\local\\programs\\python\\python310\\lib\\site-packages (1.2)"
          ]
        },
        {
          "name": "stderr",
          "output_type": "stream",
          "text": [
            "ERROR: pip's dependency resolver does not currently take into account all the packages that are installed. This behaviour is the source of the following dependency conflicts.\n",
            "experta 1.9.4 requires frozendict==1.2, but you have frozendict 2.3.8 which is incompatible.\n"
          ]
        },
        {
          "name": "stdout",
          "output_type": "stream",
          "text": [
            "\n",
            "Collecting frozendict\n",
            "  Downloading frozendict-2.3.8-cp310-cp310-win_amd64.whl (35 kB)\n",
            "Installing collected packages: frozendict\n",
            "  Attempting uninstall: frozendict\n",
            "    Found existing installation: frozendict 1.2\n",
            "    Uninstalling frozendict-1.2:\n",
            "      Successfully uninstalled frozendict-1.2\n",
            "Successfully installed frozendict-2.3.8\n"
          ]
        }
      ],
      "source": [
        "!pip install experta\n",
        "!pip install --upgrade frozendict"
      ]
    },
    {
      "cell_type": "code",
      "execution_count": 2,
      "metadata": {
        "colab": {
          "base_uri": "https://localhost:8080/"
        },
        "id": "hXTsAKR8DaIK",
        "outputId": "8bf02ebd-7597-4f6c-dde0-67a224494236"
      },
      "outputs": [
        {
          "name": "stdout",
          "output_type": "stream",
          "text": [
            "Your car may have engine failure.\n"
          ]
        }
      ],
      "source": [
        "from experta import *\n",
        "\n",
        "class CarSymptom(Fact):\n",
        "    pass\n",
        "\n",
        "class CarExpert(KnowledgeEngine):\n",
        "    @Rule(AND(\n",
        "        CarSymptom(\"engine_cranks_but_wont_start\"),\n",
        "        NOT(CarSymptom(\"fuel_smell\")),\n",
        "        NOT(CarSymptom(\"engine_flooded\")),\n",
        "        NOT(CarSymptom(\"battery_depleted\")),\n",
        "    ))\n",
        "    def diagnose_no_start(self):\n",
        "        print(\"Your car's engine cranks but won't start. The problem could be a lack of fuel, a flooded engine, or a depleted battery.\")\n",
        "\n",
        "    @Rule(AND(\n",
        "        CarSymptom(\"engine_cranks_but_wont_start\"),\n",
        "        CarSymptom(\"fuel_smell\"),\n",
        "    ))\n",
        "    def diagnose_no_start_fuel(self):\n",
        "        print(\"Your car's engine cranks but won't start, and you smell fuel. The problem could be a fuel delivery issue, such as a clogged fuel filter or a faulty fuel pump.\")\n",
        "\n",
        "    @Rule(AND(\n",
        "        CarSymptom(\"engine_cranks_but_wont_start\"),\n",
        "        CarSymptom(\"engine_flooded\"),\n",
        "    ))\n",
        "    def diagnose_no_start_flood(self):\n",
        "        print(\"Your car's engine cranks but won't start, and you suspect the engine may be flooded. Try letting it sit for a while to allow excess fuel to evaporate, then try starting it again.\")\n",
        "\n",
        "    @Rule(AND(\n",
        "        CarSymptom(\"engine_cranks_but_wont_start\"),\n",
        "        CarSymptom(\"battery_depleted\"),\n",
        "    ))\n",
        "    def diagnose_no_start_battery(self):\n",
        "        print(\"Your car's engine cranks but won't start, and you suspect the battery is dead. Try jump-starting the car or replacing the battery.\")\n",
        "\n",
        "    @Rule(AND(\n",
        "        CarSymptom(\"car_shakes\"),\n",
        "        NOT(CarSymptom(\"engine_stalling\")),\n",
        "        NOT(CarSymptom(\"brakes_grinding\")),\n",
        "    ))\n",
        "    def diagnose_shaking(self):\n",
        "        print(\"Your car is shaking. The problem could be an issue with the tires, suspension, or engine mounts.\")\n",
        "\n",
        "    @Rule(AND(\n",
        "        CarSymptom(\"engine_stalling\"),\n",
        "        NOT(CarSymptom(\"car_shakes\")),\n",
        "        NOT(CarSymptom(\"brakes_grinding\")),\n",
        "    ))\n",
        "    def diagnose_stalling(self):\n",
        "        print(\"Your car's engine is stalling. The problem could be a faulty fuel system, ignition system, or engine sensors.\")\n",
        "\n",
        "    @Rule(AND(\n",
        "        CarSymptom(\"brakes_grinding\"),\n",
        "        NOT(CarSymptom(\"car_shakes\")),\n",
        "        NOT(CarSymptom(\"engine_stalling\")),\n",
        "    ))\n",
        "    def diagnose_brakes(self):\n",
        "        print(\"Your car's brakes are grinding. The problem could be worn brake pads or shoes, damaged rotors or drums, or a problem with the brake system's hydraulics.\")\n",
        "\n",
        "    @Rule(AND(\n",
        "        CarSymptom(\"engine_warning_light\"),\n",
        "        CarSymptom(\"smoke\"),\n",
        "        CarSymptom(\"rough_engine\"),\n",
        "    ))\n",
        "    def diagnose_engine_failure(self):\n",
        "        print(\"Your car may have engine failure.\")\n",
        "\n",
        "    @Rule(AND(\n",
        "        CarSymptom(\"vibrations\"),\n",
        "        CarSymptom(\"pulling\"),\n",
        "        CarSymptom(\"uneven_tire_wear\"),\n",
        "    ))\n",
        "    def diagnose_wheel_alignment(self):\n",
        "        print(\"Your car may need a wheel alignment.\")\n",
        "\n",
        "    @Rule(AND(\n",
        "        CarSymptom(\"slow_acceleration\"),\n",
        "        CarSymptom(\"rough_shifts\"),\n",
        "        CarSymptom(\"slipping_gears\"),\n",
        "    ))\n",
        "    def diagnose_transmission_issues(self):\n",
        "        print(\"Your car may have transmission issues.\")\n",
        "\n",
        "    @Rule(AND(\n",
        "        CarSymptom(\"squealing_brakes\"),\n",
        "        CarSymptom(\"grinding_noise\"),\n",
        "        CarSymptom(\"vibration_while_braking\"),\n",
        "    ))\n",
        "    def diagnose_brake_issues(self):\n",
        "        print(\"Your car may have brake issues.\")\n",
        "\n",
        "    @Rule(AND(\n",
        "        CarSymptom(\"overheating\"),\n",
        "        CarSymptom(\"coolant_leak\"),\n",
        "        CarSymptom(\"engine_knocking\"),\n",
        "    ))\n",
        "    def diagnose_coolant_issues(self):\n",
        "        print(\"Your car may have coolant issues.\")\n",
        "\n",
        "car_expert = CarExpert()\n",
        "\n",
        "car_expert.reset()\n",
        "\n",
        "symptoms = input(\"What are your car's symptoms? (separated by commas) \")\n",
        "symptom_list = symptoms.split(\",\")\n",
        "for symptom in symptom_list:\n",
        "    car_expert.declare(CarSymptom(symptom.strip()))\n",
        "\n",
        "car_expert.run()\n"
      ]
    }
  ],
  "metadata": {
    "colab": {
      "provenance": []
    },
    "kernelspec": {
      "display_name": "Python 3",
      "name": "python3"
    },
    "language_info": {
      "codemirror_mode": {
        "name": "ipython",
        "version": 3
      },
      "file_extension": ".py",
      "mimetype": "text/x-python",
      "name": "python",
      "nbconvert_exporter": "python",
      "pygments_lexer": "ipython3",
      "version": "3.10.1"
    }
  },
  "nbformat": 4,
  "nbformat_minor": 0
}
